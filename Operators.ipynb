{
  "nbformat": 4,
  "nbformat_minor": 0,
  "metadata": {
    "colab": {
      "provenance": [],
      "authorship_tag": "ABX9TyP5qTlse+7mZVwQLHg8I4PV",
      "include_colab_link": true
    },
    "kernelspec": {
      "name": "python3",
      "display_name": "Python 3"
    },
    "language_info": {
      "name": "python"
    }
  },
  "cells": [
    {
      "cell_type": "markdown",
      "metadata": {
        "id": "view-in-github",
        "colab_type": "text"
      },
      "source": [
        "<a href=\"https://colab.research.google.com/github/SaanviMannan/Python_Basics/blob/main/Operators.ipynb\" target=\"_parent\"><img src=\"https://colab.research.google.com/assets/colab-badge.svg\" alt=\"Open In Colab\"/></a>"
      ]
    },
    {
      "cell_type": "code",
      "execution_count": 9,
      "metadata": {
        "colab": {
          "base_uri": "https://localhost:8080/"
        },
        "id": "5ZmiG-Sse8Zl",
        "outputId": "cc1a12f0-e7f8-40f1-dd8f-366f61ef3e87"
      },
      "outputs": [
        {
          "output_type": "stream",
          "name": "stdout",
          "text": [
            "EQUAL\n"
          ]
        }
      ],
      "source": [
        "#RELATION OPERATORS\n",
        "## > , < , >= , <= , == , !=\n",
        "a = 100\n",
        "b  = 100\n",
        "\n",
        "if a > b:\n",
        "  print(f\"A : {a}\")\n",
        "elif a == b:\n",
        "  print(f\"EQUAL\")\n",
        "elif a == b:\n",
        "  print(\"HI\")\n",
        "else:\n",
        "  print(f\"B : {b}\")"
      ]
    },
    {
      "cell_type": "code",
      "source": [
        "#Logical Operators\n",
        "\n",
        "a  = 100\n",
        "b = 20\n",
        "c = 30\n",
        "\n",
        "#and gate\n",
        "if (a>b) and (b>c):\n",
        "  print(\"GOODAnd\")\n",
        "\n",
        "#or gate\n",
        "if (a>b) or (b>c):\n",
        "  print(\"GOODOr\")\n",
        "\n",
        "if not(a>b):\n",
        "  print(\"GoodNot\")"
      ],
      "metadata": {
        "colab": {
          "base_uri": "https://localhost:8080/"
        },
        "id": "uAZRk1aMkVR8",
        "outputId": "b5e789f0-ace4-48d8-93e2-6b31cb4c8f96"
      },
      "execution_count": 14,
      "outputs": [
        {
          "output_type": "stream",
          "name": "stdout",
          "text": [
            "GOODOr\n"
          ]
        }
      ]
    }
  ]
}