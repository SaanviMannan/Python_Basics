{
  "nbformat": 4,
  "nbformat_minor": 0,
  "metadata": {
    "colab": {
      "provenance": [],
      "authorship_tag": "ABX9TyM0sd/qXnYzDSeKFGtDICjn",
      "include_colab_link": true
    },
    "kernelspec": {
      "name": "python3",
      "display_name": "Python 3"
    },
    "language_info": {
      "name": "python"
    }
  },
  "cells": [
    {
      "cell_type": "markdown",
      "metadata": {
        "id": "view-in-github",
        "colab_type": "text"
      },
      "source": [
        "<a href=\"https://colab.research.google.com/github/SaanviMannan/Python_Basics/blob/main/PRACS/Star_Print.ipynb\" target=\"_parent\"><img src=\"https://colab.research.google.com/assets/colab-badge.svg\" alt=\"Open In Colab\"/></a>"
      ]
    },
    {
      "cell_type": "code",
      "execution_count": null,
      "metadata": {
        "colab": {
          "base_uri": "https://localhost:8080/"
        },
        "id": "ja1_EmuXqG_g",
        "outputId": "a12c2799-ab9a-4231-d684-6cdbad8a6a98"
      },
      "outputs": [
        {
          "output_type": "stream",
          "name": "stdout",
          "text": [
            "5\n",
            "* \n",
            "* * * \n",
            "* * * * * \n",
            "* * * * * * * \n",
            "* * * * * * * * * \n"
          ]
        }
      ],
      "source": [
        "rows = int(input())\n",
        "\n",
        "for i in range(1 , rows+1):\n",
        "  for j in range(0 , (2*i)-1):\n",
        "    print('*' , end = ' ')\n",
        "  print()\n"
      ]
    },
    {
      "cell_type": "code",
      "source": [
        "rows = int(input())\n",
        "\n",
        "for i in range(1,rows+1):\n",
        "  for j in range(1,rows+1):\n",
        "    print('*' , end = ' ')\n",
        "  print()"
      ],
      "metadata": {
        "colab": {
          "base_uri": "https://localhost:8080/"
        },
        "id": "yOrnpy_gtWqp",
        "outputId": "65a0a33d-3532-4856-af34-28f3adec0772"
      },
      "execution_count": null,
      "outputs": [
        {
          "output_type": "stream",
          "name": "stdout",
          "text": [
            "6\n",
            "* * * * * * \n",
            "* * * * * * \n",
            "* * * * * * \n",
            "* * * * * * \n",
            "* * * * * * \n",
            "* * * * * * \n"
          ]
        }
      ]
    },
    {
      "cell_type": "code",
      "source": [
        "rows = int(input())\n",
        "\n",
        "for i in range(1, rows+1):\n",
        "  for j in range(0, i):\n",
        "    print('*' , end = ' ')\n",
        "  print()"
      ],
      "metadata": {
        "colab": {
          "base_uri": "https://localhost:8080/"
        },
        "id": "sr4CyMZruMbC",
        "outputId": "d06df59b-93e8-4221-e596-7a157b9ea9c3"
      },
      "execution_count": null,
      "outputs": [
        {
          "output_type": "stream",
          "name": "stdout",
          "text": [
            "5\n",
            "* \n",
            "* * \n",
            "* * * \n",
            "* * * * \n",
            "* * * * * \n"
          ]
        }
      ]
    },
    {
      "cell_type": "code",
      "source": [
        "rows = int(input())\n",
        "\n",
        "for i in range(1 , rows+1):\n",
        "  for j in range(0 , (2*i)-1):\n",
        "    print('*' , end = ' ')\n",
        "  print()"
      ],
      "metadata": {
        "id": "2lzhmoweueYC",
        "colab": {
          "base_uri": "https://localhost:8080/"
        },
        "outputId": "5629889a-0341-4e23-957a-637c08e96ff8"
      },
      "execution_count": null,
      "outputs": [
        {
          "output_type": "stream",
          "name": "stdout",
          "text": [
            "5\n",
            "* \n",
            "* * * \n",
            "* * * * * \n",
            "* * * * * * * \n",
            "* * * * * * * * * \n"
          ]
        }
      ]
    },
    {
      "cell_type": "code",
      "source": [
        "rows = int(input())\n",
        "\n",
        "for i in range(1 , rows+1):\n",
        "  for j in range(row-1):\n",
        "    print('' , end = ' ')\n",
        "  for j in range(2*i-1):\n",
        "    print('*',end='')\n",
        "  print()"
      ],
      "metadata": {
        "id": "K44eU41q7gBG",
        "colab": {
          "base_uri": "https://localhost:8080/"
        },
        "outputId": "a624bdc6-b08d-4b02-a9be-d6c530cd3298"
      },
      "execution_count": 1,
      "outputs": [
        {
          "output_type": "stream",
          "name": "stdout",
          "text": [
            "5\n",
            " *\n",
            "   ***\n",
            "     *****\n",
            "       *******\n",
            "         *********\n"
          ]
        }
      ]
    },
    {
      "cell_type": "code",
      "source": [
        "rows = int(input())\n",
        "\n",
        "for i in range(1, rows + 1):\n",
        "    # Print leading spaces\n",
        "    for j in range(rows - i):\n",
        "        print(\" \", end=\" \")\n",
        "\n",
        "    # Print stars\n",
        "    for j in range(0,(2 * i )- 1):\n",
        "        print('*', end=\" \")\n",
        "\n",
        "    print()  # Move to the next line after each row\n"
      ],
      "metadata": {
        "colab": {
          "base_uri": "https://localhost:8080/"
        },
        "id": "enUwx5WJXMNY",
        "outputId": "b51ee89a-2075-48e7-8b76-87a24c0974b3"
      },
      "execution_count": 3,
      "outputs": [
        {
          "output_type": "stream",
          "name": "stdout",
          "text": [
            "5\n",
            "        * \n",
            "      * * * \n",
            "    * * * * * \n",
            "  * * * * * * * \n",
            "* * * * * * * * * \n"
          ]
        }
      ]
    }
  ]
}