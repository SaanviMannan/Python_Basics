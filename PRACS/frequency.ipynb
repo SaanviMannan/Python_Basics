{
  "nbformat": 4,
  "nbformat_minor": 0,
  "metadata": {
    "colab": {
      "provenance": [],
      "authorship_tag": "ABX9TyPhBkQTPBFUjrNPuz4Xg9pr",
      "include_colab_link": true
    },
    "kernelspec": {
      "name": "python3",
      "display_name": "Python 3"
    },
    "language_info": {
      "name": "python"
    }
  },
  "cells": [
    {
      "cell_type": "markdown",
      "metadata": {
        "id": "view-in-github",
        "colab_type": "text"
      },
      "source": [
        "<a href=\"https://colab.research.google.com/github/SaanviMannan/Python_Basics/blob/main/PRACS/frequency.ipynb\" target=\"_parent\"><img src=\"https://colab.research.google.com/assets/colab-badge.svg\" alt=\"Open In Colab\"/></a>"
      ]
    },
    {
      "cell_type": "code",
      "execution_count": null,
      "metadata": {
        "colab": {
          "base_uri": "https://localhost:8080/"
        },
        "id": "enLW5Dapz3K7",
        "outputId": "bc7f4c5d-e985-4909-96de-4ebf0a6348ad"
      },
      "outputs": [
        {
          "name": "stdout",
          "output_type": "stream",
          "text": [
            "ENTER A STRING : saanvi mannan\n",
            "ENTER YOUR CHARAC : a\n"
          ]
        }
      ],
      "source": [
        "a= input(\"ENTER A STRING : \")\n",
        "ch = input(\"ENTER YOUR CHARAC : \")"
      ]
    },
    {
      "cell_type": "code",
      "source": [
        "ct = 0\n",
        "for x in a:\n",
        "  if x == ch:\n",
        "    ct += 1\n",
        "\n",
        "print(ct)\n"
      ],
      "metadata": {
        "colab": {
          "base_uri": "https://localhost:8080/"
        },
        "id": "RgQqMClA0V2S",
        "outputId": "dbf47e92-3c41-4ed6-b6d1-437fafc81592"
      },
      "execution_count": null,
      "outputs": [
        {
          "output_type": "stream",
          "name": "stdout",
          "text": [
            "4\n"
          ]
        }
      ]
    },
    {
      "cell_type": "code",
      "source": [
        "lst = [3,45,76,33,21,7]"
      ],
      "metadata": {
        "id": "_wQ1M4Rj1Rlp"
      },
      "execution_count": null,
      "outputs": []
    },
    {
      "cell_type": "code",
      "source": [
        "for i in range(0 , len(lst)):\n",
        "  print(lst[i])"
      ],
      "metadata": {
        "colab": {
          "base_uri": "https://localhost:8080/"
        },
        "id": "GszNir4h1RpE",
        "outputId": "4326509d-9806-490a-ae4b-2a710efd367a"
      },
      "execution_count": null,
      "outputs": [
        {
          "output_type": "stream",
          "name": "stdout",
          "text": [
            "3\n",
            "45\n",
            "76\n",
            "33\n",
            "21\n",
            "7\n"
          ]
        }
      ]
    },
    {
      "cell_type": "code",
      "source": [
        "for x in lst:\n",
        "  print(x)"
      ],
      "metadata": {
        "colab": {
          "base_uri": "https://localhost:8080/"
        },
        "id": "Zn6_HJ4W1hUa",
        "outputId": "b4e4826d-e964-44e9-ec65-dd8017237d4c"
      },
      "execution_count": null,
      "outputs": [
        {
          "output_type": "stream",
          "name": "stdout",
          "text": [
            "3\n",
            "45\n",
            "76\n",
            "33\n",
            "21\n",
            "7\n"
          ]
        }
      ]
    },
    {
      "cell_type": "code",
      "source": [
        "a=input(\"ENTER A STRING: \")\n",
        "def char_frequency(a):\n",
        "  frequency={}\n",
        "  for char in a:\n",
        "    if char in frequency:\n",
        "      frequency[char]+=1\n",
        "    else:\n",
        "      frequency[char]=1\n",
        "  return frequency\n",
        "\n",
        "\n",
        "result =char_frequency(a)\n",
        "print(result)"
      ],
      "metadata": {
        "id": "rfANsv2D57r2",
        "colab": {
          "base_uri": "https://localhost:8080/"
        },
        "outputId": "bf0ff8d7-ca15-4b3f-e37a-fe918b603acb"
      },
      "execution_count": 1,
      "outputs": [
        {
          "output_type": "stream",
          "name": "stdout",
          "text": [
            "ENTER A STRING: hello\n",
            "{'h': 1, 'e': 1, 'l': 2, 'o': 1}\n"
          ]
        }
      ]
    }
  ]
}