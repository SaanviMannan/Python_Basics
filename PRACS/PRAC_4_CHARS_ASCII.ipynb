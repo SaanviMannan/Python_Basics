{
 "cells": [
  {
   "cell_type": "code",
   "execution_count": 71,
   "id": "266950b1-82c5-4c96-baf3-9a5022d0bc30",
   "metadata": {},
   "outputs": [
    {
     "name": "stdin",
     "output_type": "stream",
     "text": [
      "ENTER INPUT Z\n"
     ]
    }
   ],
   "source": [
    "str = input(\"ENTER INPUT\")"
   ]
  },
  {
   "cell_type": "code",
   "execution_count": 73,
   "id": "1574a5b5-849a-432b-be8b-1858e434e743",
   "metadata": {},
   "outputs": [
    {
     "data": {
      "text/plain": [
       "90"
      ]
     },
     "execution_count": 73,
     "metadata": {},
     "output_type": "execute_result"
    }
   ],
   "source": [
    "ascii=ord(str)\n",
    "ascii"
   ]
  },
  {
   "cell_type": "code",
   "execution_count": 79,
   "id": "137ffae3-511b-4111-b969-1bab3fbb340a",
   "metadata": {},
   "outputs": [
    {
     "name": "stdout",
     "output_type": "stream",
     "text": [
      "LETTER\n"
     ]
    }
   ],
   "source": [
    "if ((ascii>=ord('a') and ascii<=ord('z')) or (ascii>=ord('A') and ascii<=ord('Z'))):\n",
    "    print(\"LETTER\")\n",
    "elif (ascii>=ord('0') and ascii<=ord('9')):\n",
    "    print(\"DIGIT\")\n",
    "else:\n",
    "    print(\"SPECIAL\")\n"
   ]
  },
  {
   "cell_type": "code",
   "execution_count": 83,
   "id": "ff16390f-c721-40b9-b1d9-96d055eb7ee6",
   "metadata": {},
   "outputs": [
    {
     "name": "stdout",
     "output_type": "stream",
     "text": [
      "UPPERCASE\n"
     ]
    }
   ],
   "source": [
    "if (ascii>=ord('a') and ascii<=ord('z')):\n",
    "    print(\"LOWERCASE\")\n",
    "elif (ascii>=ord('A') and ascii<=ord('Z')):\n",
    "    print(\"UPPERCASE\")\n",
    "elif (ascii>=ord('0') and ascii<=ord('9')):\n",
    "    print(\"DIGIT\")\n",
    "else:\n",
    "    print(\"SPECIAL\")\n",
    "    "
   ]
  },
  {
   "cell_type": "code",
   "execution_count": null,
   "id": "0fc8efc2-1a81-4ff4-933a-fd36c05958ab",
   "metadata": {},
   "outputs": [],
   "source": [
    "def dig_as_word(char):\n",
    "    dig_word = {\n",
    "        \"0\" : \"ZERO\" ,\n",
    "        \"1\" : \"ONE\" ,\n",
    "        \"2\" : \"TWO\" ,\n",
    "        \"3\" : \"THREE\" ,\n",
    "        \"4\" : \"FOUR\" ,\n",
    "        \"5\" : \"FIVE\" ,\n",
    "        \"6\" : \"SIX\" ,\n",
    "        \"7\" : \"SEVEN\" ,\n",
    "        \"8\" : \"EIGHT\" , \n",
    "        \"9\" : \"NINE\" \n",
    "    }\n",
    "    if char.isdigit():\n",
    "        return dig_word[char]\n",
    "    else:\n",
    "        return \"NOT A DIGIT\"\n",
    "char = input (\"ENTER A CHARACTER:  \")\n",
    "print(dig_as_word(char))\n",
    "    \n"
   ]
  },
  {
   "cell_type": "code",
   "execution_count": null,
   "id": "720de6c8-27a6-4a59-a65e-ba2bc00dc888",
   "metadata": {},
   "outputs": [],
   "source": []
  }
 ],
 "metadata": {
  "kernelspec": {
   "display_name": "Python 3 (ipykernel)",
   "language": "python",
   "name": "python3"
  },
  "language_info": {
   "codemirror_mode": {
    "name": "ipython",
    "version": 3
   },
   "file_extension": ".py",
   "mimetype": "text/x-python",
   "name": "python",
   "nbconvert_exporter": "python",
   "pygments_lexer": "ipython3",
   "version": "3.12.4"
  }
 },
 "nbformat": 4,
 "nbformat_minor": 5
}
