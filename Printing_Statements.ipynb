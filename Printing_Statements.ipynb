{
  "nbformat": 4,
  "nbformat_minor": 0,
  "metadata": {
    "colab": {
      "provenance": [],
      "authorship_tag": "ABX9TyPApCIdahrpEv1eqNrtvedd",
      "include_colab_link": true
    },
    "kernelspec": {
      "name": "python3",
      "display_name": "Python 3"
    },
    "language_info": {
      "name": "python"
    }
  },
  "cells": [
    {
      "cell_type": "markdown",
      "metadata": {
        "id": "view-in-github",
        "colab_type": "text"
      },
      "source": [
        "<a href=\"https://colab.research.google.com/github/SaanviMannan/Python_Basics/blob/main/Printing_Statements.ipynb\" target=\"_parent\"><img src=\"https://colab.research.google.com/assets/colab-badge.svg\" alt=\"Open In Colab\"/></a>"
      ]
    },
    {
      "cell_type": "code",
      "execution_count": 1,
      "metadata": {
        "colab": {
          "base_uri": "https://localhost:8080/"
        },
        "id": "jQMPP_gZXLnt",
        "outputId": "4e7a51df-50a8-48ee-dd7f-fdce5bf8b046"
      },
      "outputs": [
        {
          "output_type": "stream",
          "name": "stdout",
          "text": [
            "HI\n"
          ]
        }
      ],
      "source": [
        "#This is a print statement\n",
        "print(\"HI\")"
      ]
    },
    {
      "cell_type": "code",
      "source": [
        "#CONCAT\n",
        "print(\"HI\" + \"I am Saanvi\")\n",
        "print(\"HI\" , \"I AM SAANVI\")\n",
        "\n",
        "#Delimited\n",
        "print(\"HI\" , end = \"\\n\")\n",
        "print(\"I AM SAANVI\")\n",
        "print(\"YOYO\")"
      ],
      "metadata": {
        "colab": {
          "base_uri": "https://localhost:8080/"
        },
        "id": "PGoEQVOAXiy_",
        "outputId": "240ea290-55a1-44eb-9382-049ef1eac6d7"
      },
      "execution_count": 10,
      "outputs": [
        {
          "output_type": "stream",
          "name": "stdout",
          "text": [
            "HII am Saanvi\n",
            "HI I AM SAANVI\n",
            "HI\n",
            "I AM SAANVI\n",
            "YOYO\n"
          ]
        }
      ]
    },
    {
      "cell_type": "code",
      "source": [
        "#F strings\n",
        "name = \"saanvi\"\n",
        "age = 19\n",
        "print(\"HI I AM  age years old\")\n",
        "\n",
        "print(\"HI I AM \" ,name , \"&\" , age , \"YEARS OLD\")\n",
        "print(f\"HI I AM {name} & {age} years old\")"
      ],
      "metadata": {
        "colab": {
          "base_uri": "https://localhost:8080/"
        },
        "id": "efAdSxXTXi-a",
        "outputId": "11b7ce71-2994-4d62-ad37-577833ea15ce"
      },
      "execution_count": 18,
      "outputs": [
        {
          "output_type": "stream",
          "name": "stdout",
          "text": [
            "HI I AM  age years old\n",
            "HI I AM  saanvi & 19 YEARS OLD\n",
            "HI I AM saanvi & 19 years old\n"
          ]
        }
      ]
    }
  ]
}