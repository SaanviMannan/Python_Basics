{
 "cells": [
  {
   "cell_type": "code",
   "execution_count": 1,
   "id": "536450a7-4454-4f15-a9f9-72fcd5965773",
   "metadata": {},
   "outputs": [],
   "source": [
    "#fncs in python\n",
    "#print sum of given 2 lists\n",
    "\n",
    "def summation(lst , siz):\n",
    "    sum = 0\n",
    "    for i in range(0 , siz):\n",
    "        sum += lst[i]\n",
    "    return sum"
   ]
  },
  {
   "cell_type": "code",
   "execution_count": 40,
   "id": "07a2466e-ec29-4c18-84c9-cd61b4ec5cfb",
   "metadata": {},
   "outputs": [],
   "source": [
    "lst1 = [1,4,3,6,78,90]\n",
    "lst2 = [10,34,56,78,99,88,65]\n",
    "\n",
    "sum1 = summation(lst1 , len(lst1))\n",
    "sum2 = summation(lst2 , len(lst 2))"
   ]
  },
  {
   "cell_type": "code",
   "execution_count": 44,
   "id": "caa97533-b4b1-44ae-8aea-715283aba980",
   "metadata": {},
   "outputs": [
    {
     "name": "stdout",
     "output_type": "stream",
     "text": [
      "612\n"
     ]
    }
   ],
   "source": [
    "print(sum1+sum2)"
   ]
  },
  {
   "cell_type": "code",
   "execution_count": 68,
   "id": "168dafb1-846f-4cf0-9539-788b01ba3e84",
   "metadata": {},
   "outputs": [],
   "source": [
    "def product(lst , siz):\n",
    "    prod = 1\n",
    "    for i in range(0 , siz):\n",
    "        prod += lst[i]\n",
    "    return prod"
   ]
  },
  {
   "cell_type": "code",
   "execution_count": 70,
   "id": "fe9e2249-b430-4bfb-b56b-98f4d283c5d6",
   "metadata": {},
   "outputs": [],
   "source": [
    "lst1 = [1,4,3,6,78,90]\n",
    "lst2 = [10,34,56,78,99,88,65]\n",
    "\n",
    "prod1 = product(lst1 , len(lst1))\n",
    "prod2 = product(lst2 , len(lst2))"
   ]
  },
  {
   "cell_type": "code",
   "execution_count": 72,
   "id": "318d4c0d-8c14-40ff-9853-39aaf9d8e627",
   "metadata": {},
   "outputs": [
    {
     "name": "stdout",
     "output_type": "stream",
     "text": [
      "183 431\n"
     ]
    }
   ],
   "source": [
    "print(prod1 , prod2)"
   ]
  },
  {
   "cell_type": "code",
   "execution_count": 76,
   "id": "179cfc08-98c5-47f2-aab5-821b524ae5f7",
   "metadata": {},
   "outputs": [],
   "source": [
    "def even_lsting(lst , siz):\n",
    "    ans = []\n",
    "    for i in range(0,siz):\n",
    "        if lst[i] % 2 == 0:\n",
    "            ans.append(lst[i])\n",
    "\n",
    "    return ans"
   ]
  },
  {
   "cell_type": "code",
   "execution_count": 82,
   "id": "ec3db6b7-d561-47c9-ac38-f5f1b7c4275a",
   "metadata": {},
   "outputs": [
    {
     "name": "stdout",
     "output_type": "stream",
     "text": [
      "[10, 40, 50, 60]\n"
     ]
    }
   ],
   "source": [
    "lst4 = [10,27,33,40,50,60]\n",
    "\n",
    "ans = even_lsting(lst4 , len(lst4))\n",
    "\n",
    "print(ans)"
   ]
  },
  {
   "cell_type": "code",
   "execution_count": 88,
   "id": "0e2f4025-567e-44ac-acee-3b5e04ea52ac",
   "metadata": {},
   "outputs": [],
   "source": [
    "def pow_lsting(lst,siz):\n",
    "    ans = []\n",
    "    for i in range(0,siz):\n",
    "        ans.append(lst[i] * lst[i])\n",
    "    return ans"
   ]
  },
  {
   "cell_type": "code",
   "execution_count": 90,
   "id": "e6caba7b-6035-47c5-b96f-cb6230def256",
   "metadata": {},
   "outputs": [
    {
     "name": "stdout",
     "output_type": "stream",
     "text": [
      "[100, 400, 900, 1600, 2500]\n"
     ]
    }
   ],
   "source": [
    "lst4 = [10,20,30,40,50]\n",
    "\n",
    "res = pow_lsting(lst4,len(lst4))\n",
    "print(res)"
   ]
  }
 ],
 "metadata": {
  "kernelspec": {
   "display_name": "Python 3 (ipykernel)",
   "language": "python",
   "name": "python3"
  },
  "language_info": {
   "codemirror_mode": {
    "name": "ipython",
    "version": 3
   },
   "file_extension": ".py",
   "mimetype": "text/x-python",
   "name": "python",
   "nbconvert_exporter": "python",
   "pygments_lexer": "ipython3",
   "version": "3.12.4"
  }
 },
 "nbformat": 4,
 "nbformat_minor": 5
}
